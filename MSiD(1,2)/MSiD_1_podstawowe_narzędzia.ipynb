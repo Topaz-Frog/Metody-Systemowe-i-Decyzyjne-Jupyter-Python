{
  "nbformat": 4,
  "nbformat_minor": 0,
  "metadata": {
    "colab": {
      "name": "MSiD_1_podstawowe narzędzia.ipynb",
      "provenance": [],
      "collapsed_sections": []
    },
    "kernelspec": {
      "name": "python3",
      "display_name": "Python 3"
    },
    "language_info": {
      "name": "python"
    }
  },
  "cells": [
    {
      "cell_type": "markdown",
      "source": [
        "## Krótkie wprowadzenie do wybranych elementów języka Python oraz bibliotek obliczeń inżynierskich. <br>\n",
        "Zakłada się, że student potrafi już programować i pewne absolutne podstawy da radę wywieść z przedstawionych kodów. <br>\n",
        "To nie jest samodzielny kurs języka Python, a jedynie przedstawienie elementów istotnych dla zajęć laboratoryjnych. <br>\n",
        "Notatnik Jupytera pozwala na **połączenie kodów źródłowych, ich opisów oraz wyników ich działania w jeden spójny dokument**. Jest to jedno z najbardziej popularnych narzędzi w dziedzinie nauki o danych (ang. *data science*). <br>\n",
        "Przy korzystaniu z notatnika nie należy obawiać się **eksperymentowania z kodem** we własnych komórkach."
      ],
      "metadata": {
        "id": "zIrWNLZlneKD"
      }
    },
    {
      "cell_type": "markdown",
      "source": [
        "Każda komórka notatnika stanowi osobny edytor z kodem, który może zostać wykonany na żądanie. <br>\n",
        "Wszystkie komórki w obrębie notatnika współdzielą przestrzeń nazw i pamięć. Ma to swoje wady i zalety."
      ],
      "metadata": {
        "id": "-r8kLicZoRqh"
      }
    },
    {
      "cell_type": "markdown",
      "source": [
        "**Pamiętaj** korzystać z notatnika w sposób aktywny, tzn. uczysz się przez eksperymentowanie z zaproponowanym kodem. <br>\n",
        "Nie licz wyłącznie na opisy, które z założenia są na ogół zdawkowe."
      ],
      "metadata": {
        "id": "Fxz9Wh_lI6hB"
      }
    },
    {
      "cell_type": "markdown",
      "source": [
        "### Struktury danych języka Python, które omówione są w notatniku:\n",
        "* **lista**,\n",
        "* krotka,\n",
        "* **słownik**,\n",
        "* zbiór."
      ],
      "metadata": {
        "id": "qaWgSgBKmyZJ"
      }
    },
    {
      "cell_type": "code",
      "source": [
        ""
      ],
      "metadata": {
        "id": "16GDQEnZIro1"
      },
      "execution_count": null,
      "outputs": []
    },
    {
      "cell_type": "markdown",
      "source": [
        "**Lista** <br>\n",
        "Jest to uporządkowana kolekcja obiektów dowolnego typu."
      ],
      "metadata": {
        "id": "xtcD_N7onTEh"
      }
    },
    {
      "cell_type": "code",
      "execution_count": null,
      "metadata": {
        "colab": {
          "base_uri": "https://localhost:8080/"
        },
        "id": "MXXYWH5njd_k",
        "outputId": "92d532e3-7b18-4756-9f45-d9d496cf1650"
      },
      "outputs": [
        {
          "output_type": "stream",
          "name": "stdout",
          "text": [
            "['Opole', 'Cyców']\n"
          ]
        }
      ],
      "source": [
        "miasta_lista = ['Wrocław', 'Opole', 'Cyców', 'Moszna']\n",
        "powierzchnia_lista = [292.8, 149, 147.9, 7.29]\n",
        "populacja_lista = [643782, 128140, 1200, 350]\n",
        "\n",
        "print(miasta_lista[1:3])"
      ]
    },
    {
      "cell_type": "code",
      "source": [
        "miasta_lista.count('Wrocław')"
      ],
      "metadata": {
        "colab": {
          "base_uri": "https://localhost:8080/"
        },
        "id": "HwQRbs-jm1P4",
        "outputId": "b4f4a126-e255-4444-b808-7caf39fc8700"
      },
      "execution_count": null,
      "outputs": [
        {
          "output_type": "execute_result",
          "data": {
            "text/plain": [
              "1"
            ]
          },
          "metadata": {},
          "execution_count": 11
        }
      ]
    },
    {
      "cell_type": "code",
      "source": [
        "'Opole' in miasta_lista"
      ],
      "metadata": {
        "colab": {
          "base_uri": "https://localhost:8080/"
        },
        "id": "vYU9CqYHwPuV",
        "outputId": "345cbdc6-9e52-4047-d2bd-ec9fc77e2ae6"
      },
      "execution_count": null,
      "outputs": [
        {
          "output_type": "execute_result",
          "data": {
            "text/plain": [
              "True"
            ]
          },
          "metadata": {},
          "execution_count": 12
        }
      ]
    },
    {
      "cell_type": "code",
      "source": [
        "miasta_lista + miasta_lista"
      ],
      "metadata": {
        "colab": {
          "base_uri": "https://localhost:8080/"
        },
        "id": "PWWc0OqTwRSd",
        "outputId": "4c914b5d-d890-41e9-a379-dcf42a06586f"
      },
      "execution_count": null,
      "outputs": [
        {
          "output_type": "execute_result",
          "data": {
            "text/plain": [
              "['Wrocław', 'Opole', 'Cyców', 'Moszna', 'Wrocław', 'Opole', 'Cyców', 'Moszna']"
            ]
          },
          "metadata": {},
          "execution_count": 10
        }
      ]
    },
    {
      "cell_type": "markdown",
      "source": [
        "Iteracja po liście w stylu języka Java:"
      ],
      "metadata": {
        "id": "RE1pg-RczgOW"
      }
    },
    {
      "cell_type": "code",
      "source": [
        "for i in range(len(miasta_lista)):\n",
        "  print(miasta_lista[i].upper())"
      ],
      "metadata": {
        "colab": {
          "base_uri": "https://localhost:8080/"
        },
        "id": "ILtEtSmFzkEQ",
        "outputId": "87d7569a-609f-44e3-a801-8ac59e441efc"
      },
      "execution_count": null,
      "outputs": [
        {
          "output_type": "stream",
          "name": "stdout",
          "text": [
            "WROCŁAW\n",
            "OPOLE\n",
            "CYCÓW\n",
            "MOSZNA\n"
          ]
        }
      ]
    },
    {
      "cell_type": "markdown",
      "source": [
        "Iteracja po liście w stylu języka Python:"
      ],
      "metadata": {
        "id": "XDaSQbNjz-q_"
      }
    },
    {
      "cell_type": "code",
      "source": [
        "for elem in miasta_lista:\n",
        "  print(elem.upper())"
      ],
      "metadata": {
        "colab": {
          "base_uri": "https://localhost:8080/"
        },
        "id": "JKFPRroF1Xtt",
        "outputId": "cd1046a9-ab65-4bb8-d828-0f39325c04a6"
      },
      "execution_count": null,
      "outputs": [
        {
          "output_type": "stream",
          "name": "stdout",
          "text": [
            "WROCŁAW\n",
            "OPOLE\n",
            "CYCÓW\n",
            "MOSZNA\n"
          ]
        }
      ]
    },
    {
      "cell_type": "markdown",
      "source": [
        "Lista składana (ag. *list comprehension*) - nie musisz używać, ale warto znać, bo inni używają nagminnie."
      ],
      "metadata": {
        "id": "IYwqmJmZ1fzw"
      }
    },
    {
      "cell_type": "code",
      "source": [
        "lista_skladana = [elem.upper() for elem in miasta_lista]\n",
        "print(lista_skladana)"
      ],
      "metadata": {
        "colab": {
          "base_uri": "https://localhost:8080/"
        },
        "id": "9mJxSfqF1rUm",
        "outputId": "64944371-22a5-40c2-bc84-ae2ad3895ce7"
      },
      "execution_count": null,
      "outputs": [
        {
          "output_type": "stream",
          "name": "stdout",
          "text": [
            "['WROCŁAW', 'OPOLE', 'CYCÓW', 'MOSZNA']\n"
          ]
        }
      ]
    },
    {
      "cell_type": "code",
      "source": [
        "lista_skladana = [elem.upper() for elem in miasta_lista if elem.endswith('w')]\n",
        "print(lista_skladana)"
      ],
      "metadata": {
        "colab": {
          "base_uri": "https://localhost:8080/"
        },
        "id": "eLEsi5642AFZ",
        "outputId": "2373af65-a102-4c00-ae7d-0c7f3f24a23f"
      },
      "execution_count": null,
      "outputs": [
        {
          "output_type": "stream",
          "name": "stdout",
          "text": [
            "['WROCŁAW', 'CYCÓW']\n"
          ]
        }
      ]
    },
    {
      "cell_type": "code",
      "source": [
        "pusta_lista = []"
      ],
      "metadata": {
        "id": "fTtNztzcB1n0"
      },
      "execution_count": null,
      "outputs": []
    },
    {
      "cell_type": "markdown",
      "source": [
        "Pamiętaj wykonać własne eksperymenty z listą. Zbadaj przy okazji, jakie są konsekwencje współdzielenia pamięci przez komórki notatnika."
      ],
      "metadata": {
        "id": "TFLrEgs-x_Ps"
      }
    },
    {
      "cell_type": "markdown",
      "source": [
        "**Krotka** <br>\n",
        "Można o niej mysleć jak o niemutowalnej (czyli niezmienialnej) liście."
      ],
      "metadata": {
        "id": "a_EaNH7YzZ0W"
      }
    },
    {
      "cell_type": "code",
      "source": [
        "wymiary = (90, 60, 90)"
      ],
      "metadata": {
        "id": "E6vH2T-iw5Dp"
      },
      "execution_count": null,
      "outputs": []
    },
    {
      "cell_type": "code",
      "source": [
        "wymiary[0] = 40"
      ],
      "metadata": {
        "colab": {
          "base_uri": "https://localhost:8080/",
          "height": 174
        },
        "id": "PQkhJXVN2s57",
        "outputId": "e2ed57c3-e541-4c00-efcb-10547eb068cc"
      },
      "execution_count": null,
      "outputs": [
        {
          "output_type": "error",
          "ename": "TypeError",
          "evalue": "ignored",
          "traceback": [
            "\u001b[0;31m---------------------------------------------------------------------------\u001b[0m",
            "\u001b[0;31mTypeError\u001b[0m                                 Traceback (most recent call last)",
            "\u001b[0;32m<ipython-input-19-4ac80eb3d24e>\u001b[0m in \u001b[0;36m<module>\u001b[0;34m()\u001b[0m\n\u001b[0;32m----> 1\u001b[0;31m \u001b[0mwymiary\u001b[0m\u001b[0;34m[\u001b[0m\u001b[0;36m0\u001b[0m\u001b[0;34m]\u001b[0m \u001b[0;34m=\u001b[0m \u001b[0;36m40\u001b[0m\u001b[0;34m\u001b[0m\u001b[0;34m\u001b[0m\u001b[0m\n\u001b[0m",
            "\u001b[0;31mTypeError\u001b[0m: 'tuple' object does not support item assignment"
          ]
        }
      ]
    },
    {
      "cell_type": "markdown",
      "source": [
        "Wprawdzie elementów składowych krotki nie da się zmienić, ale można zrobić to:"
      ],
      "metadata": {
        "id": "3uj2M8vY6Mio"
      }
    },
    {
      "cell_type": "code",
      "source": [
        "wymiary = (1024, 768)"
      ],
      "metadata": {
        "id": "rs85bek22v71"
      },
      "execution_count": null,
      "outputs": []
    },
    {
      "cell_type": "markdown",
      "source": [
        "**Zapamiętaj**: <br>\n",
        "\n",
        "1.   Python realizuje **dynamiczne typowanie**.\n",
        "2.   Nazwa w języku Python to pusty wskaźnik do obiektu (faktycznie implementowany jako ```void*``` w języku C). Jednak używając nazwy działasz na wskazywanym przez nią obiekcie. Zarządzaniem pamięcią zajmuje się Python.\n",
        "\n"
      ],
      "metadata": {
        "id": "zJc1GVLg6bPk"
      }
    },
    {
      "cell_type": "markdown",
      "source": [
        "Tym co tworzy krotkę, jest nie tyle nawias ```()```, co przecinek:"
      ],
      "metadata": {
        "id": "jhOtUO8d7LlY"
      }
    },
    {
      "cell_type": "code",
      "source": [
        "osoba = 'Bożydar', 180, 92"
      ],
      "metadata": {
        "id": "9Q2pK53O6aJg"
      },
      "execution_count": null,
      "outputs": []
    },
    {
      "cell_type": "code",
      "source": [
        "osoba[2] = 88"
      ],
      "metadata": {
        "colab": {
          "base_uri": "https://localhost:8080/",
          "height": 174
        },
        "id": "5rXcN-h-7l9J",
        "outputId": "af8d2fe1-f2a3-4265-bbfc-004c8a73f6ba"
      },
      "execution_count": null,
      "outputs": [
        {
          "output_type": "error",
          "ename": "TypeError",
          "evalue": "ignored",
          "traceback": [
            "\u001b[0;31m---------------------------------------------------------------------------\u001b[0m",
            "\u001b[0;31mTypeError\u001b[0m                                 Traceback (most recent call last)",
            "\u001b[0;32m<ipython-input-22-1f01f40fdfda>\u001b[0m in \u001b[0;36m<module>\u001b[0;34m()\u001b[0m\n\u001b[0;32m----> 1\u001b[0;31m \u001b[0mosoba\u001b[0m\u001b[0;34m[\u001b[0m\u001b[0;36m2\u001b[0m\u001b[0;34m]\u001b[0m \u001b[0;34m=\u001b[0m \u001b[0;36m88\u001b[0m\u001b[0;34m\u001b[0m\u001b[0;34m\u001b[0m\u001b[0m\n\u001b[0m",
            "\u001b[0;31mTypeError\u001b[0m: 'tuple' object does not support item assignment"
          ]
        }
      ]
    },
    {
      "cell_type": "code",
      "source": [
        "szer, wys = 1024, 768"
      ],
      "metadata": {
        "id": "_9vTGBXq763D"
      },
      "execution_count": null,
      "outputs": []
    },
    {
      "cell_type": "code",
      "source": [
        "wys, szer = szer, wys\n",
        "print(f'Szerokosć: {szer}\\nWysokość: {wys}')"
      ],
      "metadata": {
        "colab": {
          "base_uri": "https://localhost:8080/"
        },
        "id": "blMp3PgiBnLF",
        "outputId": "19d11f82-f492-4c02-f686-717466caf742"
      },
      "execution_count": null,
      "outputs": [
        {
          "output_type": "stream",
          "name": "stdout",
          "text": [
            "Szerokosć: 768\n",
            "Wysokość: 1024\n"
          ]
        }
      ]
    },
    {
      "cell_type": "markdown",
      "source": [
        "Rozpakowanie krotki"
      ],
      "metadata": {
        "id": "dc9kf_p7OSNw"
      }
    },
    {
      "cell_type": "code",
      "source": [
        "kolor = 122, 16, 196\n",
        "r, g, b = kolor\n",
        "print(f'r = {r}, g = {g}, b = {b}')"
      ],
      "metadata": {
        "colab": {
          "base_uri": "https://localhost:8080/"
        },
        "id": "I4tnKfe8OUhp",
        "outputId": "e8fe64d7-cd8a-4c33-f7fb-14d09b3452f2"
      },
      "execution_count": null,
      "outputs": [
        {
          "output_type": "stream",
          "name": "stdout",
          "text": [
            "r = 122, g = 16, b = 196\n"
          ]
        }
      ]
    },
    {
      "cell_type": "markdown",
      "source": [
        "**Słownik**  (ang. *dictionary*) <br>\n",
        "Jest to nieuporządkowana kolekcja par <font color='blue'>*klucz*</font>-<font color='green'>*wartość*</font>."
      ],
      "metadata": {
        "id": "-jEtvZBaCBau"
      }
    },
    {
      "cell_type": "code",
      "source": [
        "populacja_dict = {'Wrocław': 643782,\n",
        "                  'Opole': 128140,\n",
        "                  'Cyców': 1200,\n",
        "                  'Moszna': 350,\n",
        "                  'Browarek': 48,\n",
        "                  'Złe Mięso': 195,\n",
        "                  'Radom': 210532,\n",
        "                  'Paryż': 134,\n",
        "                  'Paryż': 2148000,\n",
        "                  'Biłgoraj': 27106,\n",
        "                  }\n",
        "\n",
        "powierzchnia_dict = {'Wrocław': 292.8,\n",
        "                     'Opole': 149,\n",
        "                     'Cyców': 147.9,\n",
        "                     'Moszna': 7.29,\n",
        "                     'Browarek': 2.81,\n",
        "                     'Złe Mięso': 4.38,\n",
        "                     'Radom': 111.8,\n",
        "                     'Paryż': 9.13,\n",
        "                     'Paryż': 105.4,\n",
        "                     'Biłgoraj': 21.1,\n",
        "                    }"
      ],
      "metadata": {
        "id": "69CIgp98Bn8v"
      },
      "execution_count": null,
      "outputs": []
    },
    {
      "cell_type": "code",
      "source": [
        "populacja_dict['Paryż']"
      ],
      "metadata": {
        "colab": {
          "base_uri": "https://localhost:8080/"
        },
        "id": "Dj5clqvRL1JN",
        "outputId": "90f44f90-b6f9-41f1-aa4b-651e93b47d14"
      },
      "execution_count": null,
      "outputs": [
        {
          "output_type": "execute_result",
          "data": {
            "text/plain": [
              "2148000"
            ]
          },
          "metadata": {},
          "execution_count": 27
        }
      ]
    },
    {
      "cell_type": "code",
      "source": [
        "populacja_dict.keys()"
      ],
      "metadata": {
        "colab": {
          "base_uri": "https://localhost:8080/"
        },
        "id": "8_tr4WLDL2R5",
        "outputId": "8fde10ce-63f9-415e-da43-1aae2d187be9"
      },
      "execution_count": null,
      "outputs": [
        {
          "output_type": "execute_result",
          "data": {
            "text/plain": [
              "dict_keys(['Wrocław', 'Opole', 'Cyców', 'Moszna', 'Browarek', 'Złe Mięso', 'Radom', 'Paryż', 'Biłgoraj'])"
            ]
          },
          "metadata": {},
          "execution_count": 28
        }
      ]
    },
    {
      "cell_type": "code",
      "source": [
        "populacja_dict.values()"
      ],
      "metadata": {
        "colab": {
          "base_uri": "https://localhost:8080/"
        },
        "id": "QsJ92rN9N9h4",
        "outputId": "53f33960-aed5-4b4d-bc19-b47dfae5b562"
      },
      "execution_count": null,
      "outputs": [
        {
          "output_type": "execute_result",
          "data": {
            "text/plain": [
              "dict_values([643782, 128140, 1200, 350, 48, 195, 210532, 2148000, 27106])"
            ]
          },
          "metadata": {},
          "execution_count": 29
        }
      ]
    },
    {
      "cell_type": "code",
      "source": [
        "populacja_dict.items()"
      ],
      "metadata": {
        "colab": {
          "base_uri": "https://localhost:8080/"
        },
        "id": "Lmki9Wb2ODJ1",
        "outputId": "a0e35d29-b100-482e-cbff-b6a6da388d46"
      },
      "execution_count": null,
      "outputs": [
        {
          "output_type": "execute_result",
          "data": {
            "text/plain": [
              "dict_items([('Wrocław', 643782), ('Opole', 128140), ('Cyców', 1200), ('Moszna', 350), ('Browarek', 48), ('Złe Mięso', 195), ('Radom', 210532), ('Paryż', 2148000), ('Biłgoraj', 27106)])"
            ]
          },
          "metadata": {},
          "execution_count": 30
        }
      ]
    },
    {
      "cell_type": "markdown",
      "source": [
        "Iteracja po słowniku"
      ],
      "metadata": {
        "id": "DooacriFOGoE"
      }
    },
    {
      "cell_type": "code",
      "source": [
        "for klucz, wartosc in populacja_dict.items():\n",
        "  print(f'miasto: {klucz} | ludność: {wartosc}')"
      ],
      "metadata": {
        "colab": {
          "base_uri": "https://localhost:8080/"
        },
        "id": "wcvhVin9OE4o",
        "outputId": "d06864ce-4468-475e-c15c-28f6feb3487a"
      },
      "execution_count": null,
      "outputs": [
        {
          "output_type": "stream",
          "name": "stdout",
          "text": [
            "miasto: Wrocław | ludność: 643782\n",
            "miasto: Opole | ludność: 128140\n",
            "miasto: Cyców | ludność: 1200\n",
            "miasto: Moszna | ludność: 350\n",
            "miasto: Browarek | ludność: 48\n",
            "miasto: Złe Mięso | ludność: 195\n",
            "miasto: Radom | ludność: 210532\n",
            "miasto: Paryż | ludność: 2148000\n",
            "miasto: Biłgoraj | ludność: 27106\n"
          ]
        }
      ]
    },
    {
      "cell_type": "code",
      "source": [
        "'Radom' in populacja_dict"
      ],
      "metadata": {
        "colab": {
          "base_uri": "https://localhost:8080/"
        },
        "id": "bJEXGSVXOweC",
        "outputId": "0923ff28-375e-403e-a500-91648742b379"
      },
      "execution_count": null,
      "outputs": [
        {
          "output_type": "execute_result",
          "data": {
            "text/plain": [
              "True"
            ]
          },
          "metadata": {},
          "execution_count": 32
        }
      ]
    },
    {
      "cell_type": "code",
      "source": [
        "pusty_slownik = {}\n",
        "pusty_slownik = dict()"
      ],
      "metadata": {
        "id": "cqBOJm5eB9DQ"
      },
      "execution_count": null,
      "outputs": []
    },
    {
      "cell_type": "markdown",
      "source": [
        "**Zbiór** to coś na kształt słownika z samymi kluczami. <br>\n",
        "Możliwe, że przez cały kurs go nie użyjesz, ale warto znać. <br>\n",
        "Zamiast tłumaczenia przykład zastosowania."
      ],
      "metadata": {
        "id": "WIZhbLmyJpLL"
      }
    },
    {
      "cell_type": "code",
      "source": [
        "commiters_ordered = ['Bolek', 'ADU', 'ADU', 'Manny', 'Bolek', 'Manny', 'Bolek', 'ADU']\n",
        "commiters_unique = set(commiters_ordered)\n",
        "print(commiters_unique)"
      ],
      "metadata": {
        "colab": {
          "base_uri": "https://localhost:8080/"
        },
        "id": "TDl3E-vdJ_7n",
        "outputId": "d2e4ad4f-6373-4fda-ef91-19b19016ae51"
      },
      "execution_count": null,
      "outputs": [
        {
          "output_type": "stream",
          "name": "stdout",
          "text": [
            "{'Bolek', 'Manny', 'ADU'}\n"
          ]
        }
      ]
    },
    {
      "cell_type": "code",
      "source": [
        "pusty_zbior = set()"
      ],
      "metadata": {
        "id": "7ltyIjiCLiTb"
      },
      "execution_count": null,
      "outputs": []
    },
    {
      "cell_type": "markdown",
      "source": [
        "### Biblioteczne struktury danych:\n",
        "* tabela ```Numpy```,\n",
        "* seria  ```Pandas```,\n",
        "* ramka danych ```Pandas```."
      ],
      "metadata": {
        "id": "q6_LsIvEPUiz"
      }
    },
    {
      "cell_type": "markdown",
      "source": [
        "**Tabela** (ang. *array*) <br>\n",
        "Jest to uporządkowana kolekcja obiektów tego samego typu (niekoniecznie liczby). <br>\n",
        "Biblioteka ```Numpy``` <br>\n",
        "Kluczowa dla obliczeń na macierzach."
      ],
      "metadata": {
        "id": "ktKnWohxQG2G"
      }
    },
    {
      "cell_type": "code",
      "source": [
        "import numpy as np"
      ],
      "metadata": {
        "id": "Fn54jxx_PIGd"
      },
      "execution_count": null,
      "outputs": []
    },
    {
      "cell_type": "code",
      "source": [
        "tab = np.array([1, 1, 2, 3, 5, 8, 13])"
      ],
      "metadata": {
        "id": "mgGIzKC8Qcbg"
      },
      "execution_count": null,
      "outputs": []
    },
    {
      "cell_type": "code",
      "source": [
        "tab + tab"
      ],
      "metadata": {
        "colab": {
          "base_uri": "https://localhost:8080/"
        },
        "id": "NL7D3NRARbpd",
        "outputId": "fdf46dd7-daf6-4e28-8a36-ce6a653d91a6"
      },
      "execution_count": null,
      "outputs": [
        {
          "output_type": "execute_result",
          "data": {
            "text/plain": [
              "array([ 2,  2,  4,  6, 10, 16, 26])"
            ]
          },
          "metadata": {},
          "execution_count": 38
        }
      ]
    },
    {
      "cell_type": "code",
      "source": [
        "powierzchnia_tab = np.array(list(powierzchnia_dict.values()))\n",
        "print(list(powierzchnia_dict.values()))\n",
        "print(powierzchnia_tab)"
      ],
      "metadata": {
        "colab": {
          "base_uri": "https://localhost:8080/"
        },
        "id": "cMcIGLreRehN",
        "outputId": "44a69738-53ef-48bc-83a7-05e37892553d"
      },
      "execution_count": null,
      "outputs": [
        {
          "output_type": "stream",
          "name": "stdout",
          "text": [
            "[292.8, 149, 147.9, 7.29, 2.81, 4.38, 111.8, 105.4, 21.1]\n",
            "[292.8  149.   147.9    7.29   2.81   4.38 111.8  105.4   21.1 ]\n"
          ]
        }
      ]
    },
    {
      "cell_type": "code",
      "source": [
        "dane_ustandaryzowane = (powierzchnia_tab - powierzchnia_tab.mean()) / powierzchnia_tab.std()\n",
        "dane_ustandaryzowane = np.round(dane_ustandaryzowane,2)\n",
        "print(dane_ustandaryzowane)"
      ],
      "metadata": {
        "colab": {
          "base_uri": "https://localhost:8080/"
        },
        "id": "N7rxFslNSifc",
        "outputId": "a86b8535-ef64-46e4-b0d5-c1e7fac6c549"
      },
      "execution_count": null,
      "outputs": [
        {
          "output_type": "stream",
          "name": "stdout",
          "text": [
            "[ 2.18  0.61  0.59 -0.95 -0.99 -0.98  0.2   0.13 -0.79]\n"
          ]
        }
      ]
    },
    {
      "cell_type": "code",
      "source": [
        "tab[-1]"
      ],
      "metadata": {
        "colab": {
          "base_uri": "https://localhost:8080/"
        },
        "id": "KZo0PXTATvUw",
        "outputId": "244d7edb-fe85-4229-fccb-1db553985b6d"
      },
      "execution_count": null,
      "outputs": [
        {
          "output_type": "execute_result",
          "data": {
            "text/plain": [
              "13"
            ]
          },
          "metadata": {},
          "execution_count": 41
        }
      ]
    },
    {
      "cell_type": "markdown",
      "source": [
        "Wycinki (ang. *slices*), czyli wybieranie z tabeli spójnych fragmentów."
      ],
      "metadata": {
        "id": "yo_9kvixTRJj"
      }
    },
    {
      "cell_type": "code",
      "source": [
        "tab = dane_ustandaryzowane.copy()\n",
        "print(tab)"
      ],
      "metadata": {
        "colab": {
          "base_uri": "https://localhost:8080/"
        },
        "id": "r29ZDCuvSnr9",
        "outputId": "ef04bf2d-efe7-4f48-e76c-a30cb1deecd9"
      },
      "execution_count": null,
      "outputs": [
        {
          "output_type": "stream",
          "name": "stdout",
          "text": [
            "[ 2.18  0.61  0.59 -0.95 -0.99 -0.98  0.2   0.13 -0.79]\n"
          ]
        }
      ]
    },
    {
      "cell_type": "code",
      "source": [
        "tab[1:6:2]"
      ],
      "metadata": {
        "colab": {
          "base_uri": "https://localhost:8080/"
        },
        "id": "DsFFqCqHTb9Q",
        "outputId": "29c1661c-c633-4ddd-b6c0-738eba4f8f5e"
      },
      "execution_count": null,
      "outputs": [
        {
          "output_type": "execute_result",
          "data": {
            "text/plain": [
              "array([ 0.61, -0.95, -0.98])"
            ]
          },
          "metadata": {},
          "execution_count": 43
        }
      ]
    },
    {
      "cell_type": "code",
      "source": [
        "tab[:3]"
      ],
      "metadata": {
        "colab": {
          "base_uri": "https://localhost:8080/"
        },
        "id": "OrelLndITuHN",
        "outputId": "3ecec52e-47de-44c1-fa25-723620f96655"
      },
      "execution_count": null,
      "outputs": [
        {
          "output_type": "execute_result",
          "data": {
            "text/plain": [
              "array([2.18, 0.61, 0.59])"
            ]
          },
          "metadata": {},
          "execution_count": 44
        }
      ]
    },
    {
      "cell_type": "code",
      "source": [
        "tab[5:]"
      ],
      "metadata": {
        "colab": {
          "base_uri": "https://localhost:8080/"
        },
        "id": "DjRV2Hn4UJlY",
        "outputId": "dc691a36-e9a1-4173-a803-d1081b93dc6f"
      },
      "execution_count": null,
      "outputs": [
        {
          "output_type": "execute_result",
          "data": {
            "text/plain": [
              "array([-0.98,  0.2 ,  0.13, -0.79])"
            ]
          },
          "metadata": {},
          "execution_count": 45
        }
      ]
    },
    {
      "cell_type": "code",
      "source": [
        "tab[5:2:-1]"
      ],
      "metadata": {
        "colab": {
          "base_uri": "https://localhost:8080/"
        },
        "id": "QlQk3EaYUK6K",
        "outputId": "c0c42b7a-2157-434f-aa49-6c614424063a"
      },
      "execution_count": null,
      "outputs": [
        {
          "output_type": "execute_result",
          "data": {
            "text/plain": [
              "array([-0.98, -0.99, -0.95])"
            ]
          },
          "metadata": {},
          "execution_count": 46
        }
      ]
    },
    {
      "cell_type": "code",
      "source": [
        "tab[::-1]"
      ],
      "metadata": {
        "colab": {
          "base_uri": "https://localhost:8080/"
        },
        "id": "sXtv8ygBURk1",
        "outputId": "2b52c817-6f91-4bc1-e9f7-d05582ed4213"
      },
      "execution_count": null,
      "outputs": [
        {
          "output_type": "execute_result",
          "data": {
            "text/plain": [
              "array([-0.79,  0.13,  0.2 , -0.98, -0.99, -0.95,  0.59,  0.61,  2.18])"
            ]
          },
          "metadata": {},
          "execution_count": 47
        }
      ]
    },
    {
      "cell_type": "code",
      "source": [
        "list(tab)"
      ],
      "metadata": {
        "colab": {
          "base_uri": "https://localhost:8080/"
        },
        "id": "Rl18qvcYV99z",
        "outputId": "f9fb368c-766a-415a-ef03-0e071fb7a471"
      },
      "execution_count": null,
      "outputs": [
        {
          "output_type": "execute_result",
          "data": {
            "text/plain": [
              "[2.18, 0.61, 0.59, -0.95, -0.99, -0.98, 0.2, 0.13, -0.79]"
            ]
          },
          "metadata": {},
          "execution_count": 48
        }
      ]
    },
    {
      "cell_type": "markdown",
      "source": [
        "Filtrowanie, czyli wybieranie elementów spełniających określone kryteria."
      ],
      "metadata": {
        "id": "z5xOMuDWx_vI"
      }
    },
    {
      "cell_type": "code",
      "source": [
        "tab > 0"
      ],
      "metadata": {
        "colab": {
          "base_uri": "https://localhost:8080/"
        },
        "id": "j6lf8cZix_Ca",
        "outputId": "40c98fd5-caf6-48a0-bd41-1dc608af640e"
      },
      "execution_count": null,
      "outputs": [
        {
          "output_type": "execute_result",
          "data": {
            "text/plain": [
              "array([ True,  True,  True, False, False, False,  True,  True, False])"
            ]
          },
          "metadata": {},
          "execution_count": 49
        }
      ]
    },
    {
      "cell_type": "code",
      "source": [
        "tab[tab > 0]"
      ],
      "metadata": {
        "colab": {
          "base_uri": "https://localhost:8080/"
        },
        "id": "RQVkhxoZyFS-",
        "outputId": "e08bbf9d-1f66-4369-b510-c0485b32424b"
      },
      "execution_count": null,
      "outputs": [
        {
          "output_type": "execute_result",
          "data": {
            "text/plain": [
              "array([2.18, 0.61, 0.59, 0.2 , 0.13])"
            ]
          },
          "metadata": {},
          "execution_count": 50
        }
      ]
    },
    {
      "cell_type": "markdown",
      "source": [
        "**Seria** (ang. *series*) <br>\n",
        "Biblioteka ```Pandas``` <br>\n",
        "O serii można mysleć na dwa pożyteczne sposoby:\n",
        "\n",
        "*   jak o uporządkowanym słowniku,\n",
        "*   jak o tabeli, której indeks można dowolnie określać.\n",
        "\n"
      ],
      "metadata": {
        "id": "Kq7E2__sWHc3"
      }
    },
    {
      "cell_type": "code",
      "source": [
        "import pandas as pd"
      ],
      "metadata": {
        "id": "fbgBxXhuWB84"
      },
      "execution_count": null,
      "outputs": []
    },
    {
      "cell_type": "code",
      "source": [
        "seria = pd.Series([1, 2, 3, 4], index=['a', 'b', 'c', 'd'])\n",
        "print(seria)"
      ],
      "metadata": {
        "colab": {
          "base_uri": "https://localhost:8080/"
        },
        "id": "YqsitV9YdOsD",
        "outputId": "41ad712f-9d5e-44e5-d420-fb9995982dc9"
      },
      "execution_count": null,
      "outputs": [
        {
          "output_type": "stream",
          "name": "stdout",
          "text": [
            "a    1\n",
            "b    2\n",
            "c    3\n",
            "d    4\n",
            "dtype: int64\n"
          ]
        }
      ]
    },
    {
      "cell_type": "code",
      "source": [
        "seria['b':'d']"
      ],
      "metadata": {
        "colab": {
          "base_uri": "https://localhost:8080/"
        },
        "id": "e1UddwiQdQzm",
        "outputId": "c6069f71-57d9-4199-f3fc-739bacd801db"
      },
      "execution_count": null,
      "outputs": [
        {
          "output_type": "execute_result",
          "data": {
            "text/plain": [
              "b    2\n",
              "c    3\n",
              "d    4\n",
              "dtype: int64"
            ]
          },
          "metadata": {},
          "execution_count": 53
        }
      ]
    },
    {
      "cell_type": "code",
      "source": [
        "dowcip = pd.Series([1, 2, 3, 4], index=[4, 3, 2, 1])\n",
        "dowcip"
      ],
      "metadata": {
        "colab": {
          "base_uri": "https://localhost:8080/"
        },
        "id": "ciAv5Q9fdToC",
        "outputId": "24870680-e414-4bc0-cddb-b18684f254c4"
      },
      "execution_count": null,
      "outputs": [
        {
          "output_type": "execute_result",
          "data": {
            "text/plain": [
              "4    1\n",
              "3    2\n",
              "2    3\n",
              "1    4\n",
              "dtype: int64"
            ]
          },
          "metadata": {},
          "execution_count": 54
        }
      ]
    },
    {
      "cell_type": "markdown",
      "source": [
        "Jak w sposób jawny odwoływać się do indeksów zdefiniowanych lub domyślnych?"
      ],
      "metadata": {
        "id": "qAQgHZh3dfFq"
      }
    },
    {
      "cell_type": "code",
      "source": [
        "print(dowcip[3])\n",
        "print(dowcip.loc[3])\n",
        "print(dowcip.iloc[3])"
      ],
      "metadata": {
        "colab": {
          "base_uri": "https://localhost:8080/"
        },
        "id": "_5W7sz42da-2",
        "outputId": "6295129f-3d9f-4213-9c75-f874b4e08fc3"
      },
      "execution_count": null,
      "outputs": [
        {
          "output_type": "stream",
          "name": "stdout",
          "text": [
            "2\n",
            "2\n",
            "4\n"
          ]
        }
      ]
    },
    {
      "cell_type": "markdown",
      "source": [
        "Konstruktor serii - jak pożytecznie indeksować."
      ],
      "metadata": {
        "id": "n5pCKq5hdyPy"
      }
    },
    {
      "cell_type": "code",
      "source": [
        "powierzchnia_series = pd.Series(powierzchnia_lista, index=miasta_lista)\n",
        "powierzchnia_series"
      ],
      "metadata": {
        "colab": {
          "base_uri": "https://localhost:8080/"
        },
        "id": "I7LY1zHJdq7X",
        "outputId": "20769fa6-9f7a-48eb-8675-9241874e168a"
      },
      "execution_count": null,
      "outputs": [
        {
          "output_type": "execute_result",
          "data": {
            "text/plain": [
              "Wrocław    292.80\n",
              "Opole      149.00\n",
              "Cyców      147.90\n",
              "Moszna       7.29\n",
              "dtype: float64"
            ]
          },
          "metadata": {},
          "execution_count": 56
        }
      ]
    },
    {
      "cell_type": "code",
      "source": [
        "print(powierzchnia_series.index, \n",
        "      powierzchnia_series.values, sep='\\n')"
      ],
      "metadata": {
        "colab": {
          "base_uri": "https://localhost:8080/"
        },
        "id": "_xL41VE6eQZn",
        "outputId": "89035a0a-c13d-4f4c-bda0-ff9631b09e41"
      },
      "execution_count": null,
      "outputs": [
        {
          "output_type": "stream",
          "name": "stdout",
          "text": [
            "Index(['Wrocław', 'Opole', 'Cyców', 'Moszna'], dtype='object')\n",
            "[292.8  149.   147.9    7.29]\n"
          ]
        }
      ]
    },
    {
      "cell_type": "code",
      "source": [
        "pusta_seria = pd.Series(dtype='int')"
      ],
      "metadata": {
        "id": "AzIsOkRuCTLs"
      },
      "execution_count": null,
      "outputs": []
    },
    {
      "cell_type": "markdown",
      "source": [
        "**Ramka danych** (ang. *Data Frame*) <br>\n",
        "Biblioteka ```Pandas``` <br>\n",
        "Ramka danych to kolekcja serii współdzielących indeks. <br>\n",
        "Przy wyświetlaniu zawartości ramki poleceniem ```display``` poszczególne serie znajdują się w kolumnach o odpowiednich nazwach. <br>\n",
        "Ramka danych jest najważniejszą strukturą z punktu widzenia nauki o danych. "
      ],
      "metadata": {
        "id": "yKuePSTaeslt"
      }
    },
    {
      "cell_type": "code",
      "source": [
        "df = pd.DataFrame({'populacja': populacja_dict,\n",
        "                   'powierzchnia': powierzchnia_dict})\n",
        "display(df)"
      ],
      "metadata": {
        "colab": {
          "base_uri": "https://localhost:8080/",
          "height": 331
        },
        "id": "ZsIcg_CveT4T",
        "outputId": "5cbad258-8b2b-4c43-9b08-8368fd2f6f1c"
      },
      "execution_count": null,
      "outputs": [
        {
          "output_type": "display_data",
          "data": {
            "text/html": [
              "\n",
              "  <div id=\"df-e437a64f-2cac-4391-bb4e-d6d2869b004a\">\n",
              "    <div class=\"colab-df-container\">\n",
              "      <div>\n",
              "<style scoped>\n",
              "    .dataframe tbody tr th:only-of-type {\n",
              "        vertical-align: middle;\n",
              "    }\n",
              "\n",
              "    .dataframe tbody tr th {\n",
              "        vertical-align: top;\n",
              "    }\n",
              "\n",
              "    .dataframe thead th {\n",
              "        text-align: right;\n",
              "    }\n",
              "</style>\n",
              "<table border=\"1\" class=\"dataframe\">\n",
              "  <thead>\n",
              "    <tr style=\"text-align: right;\">\n",
              "      <th></th>\n",
              "      <th>populacja</th>\n",
              "      <th>powierzchnia</th>\n",
              "    </tr>\n",
              "  </thead>\n",
              "  <tbody>\n",
              "    <tr>\n",
              "      <th>Wrocław</th>\n",
              "      <td>643782</td>\n",
              "      <td>292.80</td>\n",
              "    </tr>\n",
              "    <tr>\n",
              "      <th>Opole</th>\n",
              "      <td>128140</td>\n",
              "      <td>149.00</td>\n",
              "    </tr>\n",
              "    <tr>\n",
              "      <th>Cyców</th>\n",
              "      <td>1200</td>\n",
              "      <td>147.90</td>\n",
              "    </tr>\n",
              "    <tr>\n",
              "      <th>Moszna</th>\n",
              "      <td>350</td>\n",
              "      <td>7.29</td>\n",
              "    </tr>\n",
              "    <tr>\n",
              "      <th>Browarek</th>\n",
              "      <td>48</td>\n",
              "      <td>2.81</td>\n",
              "    </tr>\n",
              "    <tr>\n",
              "      <th>Złe Mięso</th>\n",
              "      <td>195</td>\n",
              "      <td>4.38</td>\n",
              "    </tr>\n",
              "    <tr>\n",
              "      <th>Radom</th>\n",
              "      <td>210532</td>\n",
              "      <td>111.80</td>\n",
              "    </tr>\n",
              "    <tr>\n",
              "      <th>Paryż</th>\n",
              "      <td>2148000</td>\n",
              "      <td>105.40</td>\n",
              "    </tr>\n",
              "    <tr>\n",
              "      <th>Biłgoraj</th>\n",
              "      <td>27106</td>\n",
              "      <td>21.10</td>\n",
              "    </tr>\n",
              "  </tbody>\n",
              "</table>\n",
              "</div>\n",
              "      <button class=\"colab-df-convert\" onclick=\"convertToInteractive('df-e437a64f-2cac-4391-bb4e-d6d2869b004a')\"\n",
              "              title=\"Convert this dataframe to an interactive table.\"\n",
              "              style=\"display:none;\">\n",
              "        \n",
              "  <svg xmlns=\"http://www.w3.org/2000/svg\" height=\"24px\"viewBox=\"0 0 24 24\"\n",
              "       width=\"24px\">\n",
              "    <path d=\"M0 0h24v24H0V0z\" fill=\"none\"/>\n",
              "    <path d=\"M18.56 5.44l.94 2.06.94-2.06 2.06-.94-2.06-.94-.94-2.06-.94 2.06-2.06.94zm-11 1L8.5 8.5l.94-2.06 2.06-.94-2.06-.94L8.5 2.5l-.94 2.06-2.06.94zm10 10l.94 2.06.94-2.06 2.06-.94-2.06-.94-.94-2.06-.94 2.06-2.06.94z\"/><path d=\"M17.41 7.96l-1.37-1.37c-.4-.4-.92-.59-1.43-.59-.52 0-1.04.2-1.43.59L10.3 9.45l-7.72 7.72c-.78.78-.78 2.05 0 2.83L4 21.41c.39.39.9.59 1.41.59.51 0 1.02-.2 1.41-.59l7.78-7.78 2.81-2.81c.8-.78.8-2.07 0-2.86zM5.41 20L4 18.59l7.72-7.72 1.47 1.35L5.41 20z\"/>\n",
              "  </svg>\n",
              "      </button>\n",
              "      \n",
              "  <style>\n",
              "    .colab-df-container {\n",
              "      display:flex;\n",
              "      flex-wrap:wrap;\n",
              "      gap: 12px;\n",
              "    }\n",
              "\n",
              "    .colab-df-convert {\n",
              "      background-color: #E8F0FE;\n",
              "      border: none;\n",
              "      border-radius: 50%;\n",
              "      cursor: pointer;\n",
              "      display: none;\n",
              "      fill: #1967D2;\n",
              "      height: 32px;\n",
              "      padding: 0 0 0 0;\n",
              "      width: 32px;\n",
              "    }\n",
              "\n",
              "    .colab-df-convert:hover {\n",
              "      background-color: #E2EBFA;\n",
              "      box-shadow: 0px 1px 2px rgba(60, 64, 67, 0.3), 0px 1px 3px 1px rgba(60, 64, 67, 0.15);\n",
              "      fill: #174EA6;\n",
              "    }\n",
              "\n",
              "    [theme=dark] .colab-df-convert {\n",
              "      background-color: #3B4455;\n",
              "      fill: #D2E3FC;\n",
              "    }\n",
              "\n",
              "    [theme=dark] .colab-df-convert:hover {\n",
              "      background-color: #434B5C;\n",
              "      box-shadow: 0px 1px 3px 1px rgba(0, 0, 0, 0.15);\n",
              "      filter: drop-shadow(0px 1px 2px rgba(0, 0, 0, 0.3));\n",
              "      fill: #FFFFFF;\n",
              "    }\n",
              "  </style>\n",
              "\n",
              "      <script>\n",
              "        const buttonEl =\n",
              "          document.querySelector('#df-e437a64f-2cac-4391-bb4e-d6d2869b004a button.colab-df-convert');\n",
              "        buttonEl.style.display =\n",
              "          google.colab.kernel.accessAllowed ? 'block' : 'none';\n",
              "\n",
              "        async function convertToInteractive(key) {\n",
              "          const element = document.querySelector('#df-e437a64f-2cac-4391-bb4e-d6d2869b004a');\n",
              "          const dataTable =\n",
              "            await google.colab.kernel.invokeFunction('convertToInteractive',\n",
              "                                                     [key], {});\n",
              "          if (!dataTable) return;\n",
              "\n",
              "          const docLinkHtml = 'Like what you see? Visit the ' +\n",
              "            '<a target=\"_blank\" href=https://colab.research.google.com/notebooks/data_table.ipynb>data table notebook</a>'\n",
              "            + ' to learn more about interactive tables.';\n",
              "          element.innerHTML = '';\n",
              "          dataTable['output_type'] = 'display_data';\n",
              "          await google.colab.output.renderOutput(dataTable, element);\n",
              "          const docLink = document.createElement('div');\n",
              "          docLink.innerHTML = docLinkHtml;\n",
              "          element.appendChild(docLink);\n",
              "        }\n",
              "      </script>\n",
              "    </div>\n",
              "  </div>\n",
              "  "
            ],
            "text/plain": [
              "           populacja  powierzchnia\n",
              "Wrocław       643782        292.80\n",
              "Opole         128140        149.00\n",
              "Cyców           1200        147.90\n",
              "Moszna           350          7.29\n",
              "Browarek          48          2.81\n",
              "Złe Mięso        195          4.38\n",
              "Radom         210532        111.80\n",
              "Paryż        2148000        105.40\n",
              "Biłgoraj       27106         21.10"
            ]
          },
          "metadata": {}
        }
      ]
    },
    {
      "cell_type": "code",
      "source": [
        "print(df.index, \n",
        "      df.columns, sep='\\n')"
      ],
      "metadata": {
        "colab": {
          "base_uri": "https://localhost:8080/"
        },
        "id": "wJWVmI1HfRlW",
        "outputId": "76aff9aa-84e0-4203-d2d8-cecece6790fd"
      },
      "execution_count": null,
      "outputs": [
        {
          "output_type": "stream",
          "name": "stdout",
          "text": [
            "Index(['Wrocław', 'Opole', 'Cyców', 'Moszna', 'Browarek', 'Złe Mięso', 'Radom',\n",
            "       'Paryż', 'Biłgoraj'],\n",
            "      dtype='object')\n",
            "Index(['populacja', 'powierzchnia'], dtype='object')\n"
          ]
        }
      ]
    },
    {
      "cell_type": "code",
      "source": [
        "df.loc['Radom','powierzchnia'] = 112"
      ],
      "metadata": {
        "id": "AneCTk65fUmw"
      },
      "execution_count": null,
      "outputs": []
    },
    {
      "cell_type": "code",
      "source": [
        "df[['populacja']]"
      ],
      "metadata": {
        "colab": {
          "base_uri": "https://localhost:8080/",
          "height": 331
        },
        "id": "8Ln3f9lBfX3j",
        "outputId": "d34a24b5-0eca-4aaa-8c36-0d2174c10778"
      },
      "execution_count": null,
      "outputs": [
        {
          "output_type": "execute_result",
          "data": {
            "text/html": [
              "\n",
              "  <div id=\"df-795617e2-bcb4-4886-9e77-d19781ea16e0\">\n",
              "    <div class=\"colab-df-container\">\n",
              "      <div>\n",
              "<style scoped>\n",
              "    .dataframe tbody tr th:only-of-type {\n",
              "        vertical-align: middle;\n",
              "    }\n",
              "\n",
              "    .dataframe tbody tr th {\n",
              "        vertical-align: top;\n",
              "    }\n",
              "\n",
              "    .dataframe thead th {\n",
              "        text-align: right;\n",
              "    }\n",
              "</style>\n",
              "<table border=\"1\" class=\"dataframe\">\n",
              "  <thead>\n",
              "    <tr style=\"text-align: right;\">\n",
              "      <th></th>\n",
              "      <th>populacja</th>\n",
              "    </tr>\n",
              "  </thead>\n",
              "  <tbody>\n",
              "    <tr>\n",
              "      <th>Wrocław</th>\n",
              "      <td>643782</td>\n",
              "    </tr>\n",
              "    <tr>\n",
              "      <th>Opole</th>\n",
              "      <td>128140</td>\n",
              "    </tr>\n",
              "    <tr>\n",
              "      <th>Cyców</th>\n",
              "      <td>1200</td>\n",
              "    </tr>\n",
              "    <tr>\n",
              "      <th>Moszna</th>\n",
              "      <td>350</td>\n",
              "    </tr>\n",
              "    <tr>\n",
              "      <th>Browarek</th>\n",
              "      <td>48</td>\n",
              "    </tr>\n",
              "    <tr>\n",
              "      <th>Złe Mięso</th>\n",
              "      <td>195</td>\n",
              "    </tr>\n",
              "    <tr>\n",
              "      <th>Radom</th>\n",
              "      <td>210532</td>\n",
              "    </tr>\n",
              "    <tr>\n",
              "      <th>Paryż</th>\n",
              "      <td>2148000</td>\n",
              "    </tr>\n",
              "    <tr>\n",
              "      <th>Biłgoraj</th>\n",
              "      <td>27106</td>\n",
              "    </tr>\n",
              "  </tbody>\n",
              "</table>\n",
              "</div>\n",
              "      <button class=\"colab-df-convert\" onclick=\"convertToInteractive('df-795617e2-bcb4-4886-9e77-d19781ea16e0')\"\n",
              "              title=\"Convert this dataframe to an interactive table.\"\n",
              "              style=\"display:none;\">\n",
              "        \n",
              "  <svg xmlns=\"http://www.w3.org/2000/svg\" height=\"24px\"viewBox=\"0 0 24 24\"\n",
              "       width=\"24px\">\n",
              "    <path d=\"M0 0h24v24H0V0z\" fill=\"none\"/>\n",
              "    <path d=\"M18.56 5.44l.94 2.06.94-2.06 2.06-.94-2.06-.94-.94-2.06-.94 2.06-2.06.94zm-11 1L8.5 8.5l.94-2.06 2.06-.94-2.06-.94L8.5 2.5l-.94 2.06-2.06.94zm10 10l.94 2.06.94-2.06 2.06-.94-2.06-.94-.94-2.06-.94 2.06-2.06.94z\"/><path d=\"M17.41 7.96l-1.37-1.37c-.4-.4-.92-.59-1.43-.59-.52 0-1.04.2-1.43.59L10.3 9.45l-7.72 7.72c-.78.78-.78 2.05 0 2.83L4 21.41c.39.39.9.59 1.41.59.51 0 1.02-.2 1.41-.59l7.78-7.78 2.81-2.81c.8-.78.8-2.07 0-2.86zM5.41 20L4 18.59l7.72-7.72 1.47 1.35L5.41 20z\"/>\n",
              "  </svg>\n",
              "      </button>\n",
              "      \n",
              "  <style>\n",
              "    .colab-df-container {\n",
              "      display:flex;\n",
              "      flex-wrap:wrap;\n",
              "      gap: 12px;\n",
              "    }\n",
              "\n",
              "    .colab-df-convert {\n",
              "      background-color: #E8F0FE;\n",
              "      border: none;\n",
              "      border-radius: 50%;\n",
              "      cursor: pointer;\n",
              "      display: none;\n",
              "      fill: #1967D2;\n",
              "      height: 32px;\n",
              "      padding: 0 0 0 0;\n",
              "      width: 32px;\n",
              "    }\n",
              "\n",
              "    .colab-df-convert:hover {\n",
              "      background-color: #E2EBFA;\n",
              "      box-shadow: 0px 1px 2px rgba(60, 64, 67, 0.3), 0px 1px 3px 1px rgba(60, 64, 67, 0.15);\n",
              "      fill: #174EA6;\n",
              "    }\n",
              "\n",
              "    [theme=dark] .colab-df-convert {\n",
              "      background-color: #3B4455;\n",
              "      fill: #D2E3FC;\n",
              "    }\n",
              "\n",
              "    [theme=dark] .colab-df-convert:hover {\n",
              "      background-color: #434B5C;\n",
              "      box-shadow: 0px 1px 3px 1px rgba(0, 0, 0, 0.15);\n",
              "      filter: drop-shadow(0px 1px 2px rgba(0, 0, 0, 0.3));\n",
              "      fill: #FFFFFF;\n",
              "    }\n",
              "  </style>\n",
              "\n",
              "      <script>\n",
              "        const buttonEl =\n",
              "          document.querySelector('#df-795617e2-bcb4-4886-9e77-d19781ea16e0 button.colab-df-convert');\n",
              "        buttonEl.style.display =\n",
              "          google.colab.kernel.accessAllowed ? 'block' : 'none';\n",
              "\n",
              "        async function convertToInteractive(key) {\n",
              "          const element = document.querySelector('#df-795617e2-bcb4-4886-9e77-d19781ea16e0');\n",
              "          const dataTable =\n",
              "            await google.colab.kernel.invokeFunction('convertToInteractive',\n",
              "                                                     [key], {});\n",
              "          if (!dataTable) return;\n",
              "\n",
              "          const docLinkHtml = 'Like what you see? Visit the ' +\n",
              "            '<a target=\"_blank\" href=https://colab.research.google.com/notebooks/data_table.ipynb>data table notebook</a>'\n",
              "            + ' to learn more about interactive tables.';\n",
              "          element.innerHTML = '';\n",
              "          dataTable['output_type'] = 'display_data';\n",
              "          await google.colab.output.renderOutput(dataTable, element);\n",
              "          const docLink = document.createElement('div');\n",
              "          docLink.innerHTML = docLinkHtml;\n",
              "          element.appendChild(docLink);\n",
              "        }\n",
              "      </script>\n",
              "    </div>\n",
              "  </div>\n",
              "  "
            ],
            "text/plain": [
              "           populacja\n",
              "Wrocław       643782\n",
              "Opole         128140\n",
              "Cyców           1200\n",
              "Moszna           350\n",
              "Browarek          48\n",
              "Złe Mięso        195\n",
              "Radom         210532\n",
              "Paryż        2148000\n",
              "Biłgoraj       27106"
            ]
          },
          "metadata": {},
          "execution_count": 62
        }
      ]
    },
    {
      "cell_type": "markdown",
      "source": [
        "Transpozycja ramki"
      ],
      "metadata": {
        "id": "fLNIqRYEfeIY"
      }
    },
    {
      "cell_type": "code",
      "source": [
        "df.T"
      ],
      "metadata": {
        "colab": {
          "base_uri": "https://localhost:8080/",
          "height": 112
        },
        "id": "7qK9rHn2fiv8",
        "outputId": "1710fc95-e98b-40e6-afed-b660a8a63eb3"
      },
      "execution_count": null,
      "outputs": [
        {
          "output_type": "execute_result",
          "data": {
            "text/html": [
              "\n",
              "  <div id=\"df-4fa9e75b-e7fe-4732-8e97-195ec041d2e4\">\n",
              "    <div class=\"colab-df-container\">\n",
              "      <div>\n",
              "<style scoped>\n",
              "    .dataframe tbody tr th:only-of-type {\n",
              "        vertical-align: middle;\n",
              "    }\n",
              "\n",
              "    .dataframe tbody tr th {\n",
              "        vertical-align: top;\n",
              "    }\n",
              "\n",
              "    .dataframe thead th {\n",
              "        text-align: right;\n",
              "    }\n",
              "</style>\n",
              "<table border=\"1\" class=\"dataframe\">\n",
              "  <thead>\n",
              "    <tr style=\"text-align: right;\">\n",
              "      <th></th>\n",
              "      <th>Wrocław</th>\n",
              "      <th>Opole</th>\n",
              "      <th>Cyców</th>\n",
              "      <th>Moszna</th>\n",
              "      <th>Browarek</th>\n",
              "      <th>Złe Mięso</th>\n",
              "      <th>Radom</th>\n",
              "      <th>Paryż</th>\n",
              "      <th>Biłgoraj</th>\n",
              "    </tr>\n",
              "  </thead>\n",
              "  <tbody>\n",
              "    <tr>\n",
              "      <th>populacja</th>\n",
              "      <td>643782.0</td>\n",
              "      <td>128140.0</td>\n",
              "      <td>1200.0</td>\n",
              "      <td>350.00</td>\n",
              "      <td>48.00</td>\n",
              "      <td>195.00</td>\n",
              "      <td>210532.0</td>\n",
              "      <td>2148000.0</td>\n",
              "      <td>27106.0</td>\n",
              "    </tr>\n",
              "    <tr>\n",
              "      <th>powierzchnia</th>\n",
              "      <td>292.8</td>\n",
              "      <td>149.0</td>\n",
              "      <td>147.9</td>\n",
              "      <td>7.29</td>\n",
              "      <td>2.81</td>\n",
              "      <td>4.38</td>\n",
              "      <td>112.0</td>\n",
              "      <td>105.4</td>\n",
              "      <td>21.1</td>\n",
              "    </tr>\n",
              "  </tbody>\n",
              "</table>\n",
              "</div>\n",
              "      <button class=\"colab-df-convert\" onclick=\"convertToInteractive('df-4fa9e75b-e7fe-4732-8e97-195ec041d2e4')\"\n",
              "              title=\"Convert this dataframe to an interactive table.\"\n",
              "              style=\"display:none;\">\n",
              "        \n",
              "  <svg xmlns=\"http://www.w3.org/2000/svg\" height=\"24px\"viewBox=\"0 0 24 24\"\n",
              "       width=\"24px\">\n",
              "    <path d=\"M0 0h24v24H0V0z\" fill=\"none\"/>\n",
              "    <path d=\"M18.56 5.44l.94 2.06.94-2.06 2.06-.94-2.06-.94-.94-2.06-.94 2.06-2.06.94zm-11 1L8.5 8.5l.94-2.06 2.06-.94-2.06-.94L8.5 2.5l-.94 2.06-2.06.94zm10 10l.94 2.06.94-2.06 2.06-.94-2.06-.94-.94-2.06-.94 2.06-2.06.94z\"/><path d=\"M17.41 7.96l-1.37-1.37c-.4-.4-.92-.59-1.43-.59-.52 0-1.04.2-1.43.59L10.3 9.45l-7.72 7.72c-.78.78-.78 2.05 0 2.83L4 21.41c.39.39.9.59 1.41.59.51 0 1.02-.2 1.41-.59l7.78-7.78 2.81-2.81c.8-.78.8-2.07 0-2.86zM5.41 20L4 18.59l7.72-7.72 1.47 1.35L5.41 20z\"/>\n",
              "  </svg>\n",
              "      </button>\n",
              "      \n",
              "  <style>\n",
              "    .colab-df-container {\n",
              "      display:flex;\n",
              "      flex-wrap:wrap;\n",
              "      gap: 12px;\n",
              "    }\n",
              "\n",
              "    .colab-df-convert {\n",
              "      background-color: #E8F0FE;\n",
              "      border: none;\n",
              "      border-radius: 50%;\n",
              "      cursor: pointer;\n",
              "      display: none;\n",
              "      fill: #1967D2;\n",
              "      height: 32px;\n",
              "      padding: 0 0 0 0;\n",
              "      width: 32px;\n",
              "    }\n",
              "\n",
              "    .colab-df-convert:hover {\n",
              "      background-color: #E2EBFA;\n",
              "      box-shadow: 0px 1px 2px rgba(60, 64, 67, 0.3), 0px 1px 3px 1px rgba(60, 64, 67, 0.15);\n",
              "      fill: #174EA6;\n",
              "    }\n",
              "\n",
              "    [theme=dark] .colab-df-convert {\n",
              "      background-color: #3B4455;\n",
              "      fill: #D2E3FC;\n",
              "    }\n",
              "\n",
              "    [theme=dark] .colab-df-convert:hover {\n",
              "      background-color: #434B5C;\n",
              "      box-shadow: 0px 1px 3px 1px rgba(0, 0, 0, 0.15);\n",
              "      filter: drop-shadow(0px 1px 2px rgba(0, 0, 0, 0.3));\n",
              "      fill: #FFFFFF;\n",
              "    }\n",
              "  </style>\n",
              "\n",
              "      <script>\n",
              "        const buttonEl =\n",
              "          document.querySelector('#df-4fa9e75b-e7fe-4732-8e97-195ec041d2e4 button.colab-df-convert');\n",
              "        buttonEl.style.display =\n",
              "          google.colab.kernel.accessAllowed ? 'block' : 'none';\n",
              "\n",
              "        async function convertToInteractive(key) {\n",
              "          const element = document.querySelector('#df-4fa9e75b-e7fe-4732-8e97-195ec041d2e4');\n",
              "          const dataTable =\n",
              "            await google.colab.kernel.invokeFunction('convertToInteractive',\n",
              "                                                     [key], {});\n",
              "          if (!dataTable) return;\n",
              "\n",
              "          const docLinkHtml = 'Like what you see? Visit the ' +\n",
              "            '<a target=\"_blank\" href=https://colab.research.google.com/notebooks/data_table.ipynb>data table notebook</a>'\n",
              "            + ' to learn more about interactive tables.';\n",
              "          element.innerHTML = '';\n",
              "          dataTable['output_type'] = 'display_data';\n",
              "          await google.colab.output.renderOutput(dataTable, element);\n",
              "          const docLink = document.createElement('div');\n",
              "          docLink.innerHTML = docLinkHtml;\n",
              "          element.appendChild(docLink);\n",
              "        }\n",
              "      </script>\n",
              "    </div>\n",
              "  </div>\n",
              "  "
            ],
            "text/plain": [
              "               Wrocław     Opole   Cyców  ...     Radom      Paryż  Biłgoraj\n",
              "populacja     643782.0  128140.0  1200.0  ...  210532.0  2148000.0   27106.0\n",
              "powierzchnia     292.8     149.0   147.9  ...     112.0      105.4      21.1\n",
              "\n",
              "[2 rows x 9 columns]"
            ]
          },
          "metadata": {},
          "execution_count": 63
        }
      ]
    },
    {
      "cell_type": "code",
      "source": [
        "df.T[['Wrocław']]"
      ],
      "metadata": {
        "colab": {
          "base_uri": "https://localhost:8080/",
          "height": 112
        },
        "id": "SWI2PE87fZxT",
        "outputId": "5fe8c2e9-d10a-400d-dbdc-69edb763fba5"
      },
      "execution_count": null,
      "outputs": [
        {
          "output_type": "execute_result",
          "data": {
            "text/html": [
              "\n",
              "  <div id=\"df-38d47785-9c54-4fb5-9e73-7fa6d009267b\">\n",
              "    <div class=\"colab-df-container\">\n",
              "      <div>\n",
              "<style scoped>\n",
              "    .dataframe tbody tr th:only-of-type {\n",
              "        vertical-align: middle;\n",
              "    }\n",
              "\n",
              "    .dataframe tbody tr th {\n",
              "        vertical-align: top;\n",
              "    }\n",
              "\n",
              "    .dataframe thead th {\n",
              "        text-align: right;\n",
              "    }\n",
              "</style>\n",
              "<table border=\"1\" class=\"dataframe\">\n",
              "  <thead>\n",
              "    <tr style=\"text-align: right;\">\n",
              "      <th></th>\n",
              "      <th>Wrocław</th>\n",
              "    </tr>\n",
              "  </thead>\n",
              "  <tbody>\n",
              "    <tr>\n",
              "      <th>populacja</th>\n",
              "      <td>643782.0</td>\n",
              "    </tr>\n",
              "    <tr>\n",
              "      <th>powierzchnia</th>\n",
              "      <td>292.8</td>\n",
              "    </tr>\n",
              "  </tbody>\n",
              "</table>\n",
              "</div>\n",
              "      <button class=\"colab-df-convert\" onclick=\"convertToInteractive('df-38d47785-9c54-4fb5-9e73-7fa6d009267b')\"\n",
              "              title=\"Convert this dataframe to an interactive table.\"\n",
              "              style=\"display:none;\">\n",
              "        \n",
              "  <svg xmlns=\"http://www.w3.org/2000/svg\" height=\"24px\"viewBox=\"0 0 24 24\"\n",
              "       width=\"24px\">\n",
              "    <path d=\"M0 0h24v24H0V0z\" fill=\"none\"/>\n",
              "    <path d=\"M18.56 5.44l.94 2.06.94-2.06 2.06-.94-2.06-.94-.94-2.06-.94 2.06-2.06.94zm-11 1L8.5 8.5l.94-2.06 2.06-.94-2.06-.94L8.5 2.5l-.94 2.06-2.06.94zm10 10l.94 2.06.94-2.06 2.06-.94-2.06-.94-.94-2.06-.94 2.06-2.06.94z\"/><path d=\"M17.41 7.96l-1.37-1.37c-.4-.4-.92-.59-1.43-.59-.52 0-1.04.2-1.43.59L10.3 9.45l-7.72 7.72c-.78.78-.78 2.05 0 2.83L4 21.41c.39.39.9.59 1.41.59.51 0 1.02-.2 1.41-.59l7.78-7.78 2.81-2.81c.8-.78.8-2.07 0-2.86zM5.41 20L4 18.59l7.72-7.72 1.47 1.35L5.41 20z\"/>\n",
              "  </svg>\n",
              "      </button>\n",
              "      \n",
              "  <style>\n",
              "    .colab-df-container {\n",
              "      display:flex;\n",
              "      flex-wrap:wrap;\n",
              "      gap: 12px;\n",
              "    }\n",
              "\n",
              "    .colab-df-convert {\n",
              "      background-color: #E8F0FE;\n",
              "      border: none;\n",
              "      border-radius: 50%;\n",
              "      cursor: pointer;\n",
              "      display: none;\n",
              "      fill: #1967D2;\n",
              "      height: 32px;\n",
              "      padding: 0 0 0 0;\n",
              "      width: 32px;\n",
              "    }\n",
              "\n",
              "    .colab-df-convert:hover {\n",
              "      background-color: #E2EBFA;\n",
              "      box-shadow: 0px 1px 2px rgba(60, 64, 67, 0.3), 0px 1px 3px 1px rgba(60, 64, 67, 0.15);\n",
              "      fill: #174EA6;\n",
              "    }\n",
              "\n",
              "    [theme=dark] .colab-df-convert {\n",
              "      background-color: #3B4455;\n",
              "      fill: #D2E3FC;\n",
              "    }\n",
              "\n",
              "    [theme=dark] .colab-df-convert:hover {\n",
              "      background-color: #434B5C;\n",
              "      box-shadow: 0px 1px 3px 1px rgba(0, 0, 0, 0.15);\n",
              "      filter: drop-shadow(0px 1px 2px rgba(0, 0, 0, 0.3));\n",
              "      fill: #FFFFFF;\n",
              "    }\n",
              "  </style>\n",
              "\n",
              "      <script>\n",
              "        const buttonEl =\n",
              "          document.querySelector('#df-38d47785-9c54-4fb5-9e73-7fa6d009267b button.colab-df-convert');\n",
              "        buttonEl.style.display =\n",
              "          google.colab.kernel.accessAllowed ? 'block' : 'none';\n",
              "\n",
              "        async function convertToInteractive(key) {\n",
              "          const element = document.querySelector('#df-38d47785-9c54-4fb5-9e73-7fa6d009267b');\n",
              "          const dataTable =\n",
              "            await google.colab.kernel.invokeFunction('convertToInteractive',\n",
              "                                                     [key], {});\n",
              "          if (!dataTable) return;\n",
              "\n",
              "          const docLinkHtml = 'Like what you see? Visit the ' +\n",
              "            '<a target=\"_blank\" href=https://colab.research.google.com/notebooks/data_table.ipynb>data table notebook</a>'\n",
              "            + ' to learn more about interactive tables.';\n",
              "          element.innerHTML = '';\n",
              "          dataTable['output_type'] = 'display_data';\n",
              "          await google.colab.output.renderOutput(dataTable, element);\n",
              "          const docLink = document.createElement('div');\n",
              "          docLink.innerHTML = docLinkHtml;\n",
              "          element.appendChild(docLink);\n",
              "        }\n",
              "      </script>\n",
              "    </div>\n",
              "  </div>\n",
              "  "
            ],
            "text/plain": [
              "               Wrocław\n",
              "populacja     643782.0\n",
              "powierzchnia     292.8"
            ]
          },
          "metadata": {},
          "execution_count": 65
        }
      ]
    },
    {
      "cell_type": "markdown",
      "source": [
        "**Zbadaj** jaka jest różnica między\n",
        "```python\n",
        "df.T[['Wrocław']]\n",
        "``` \n",
        "a \n",
        "```python \n",
        "df.T['Wrocław']\n",
        "```"
      ],
      "metadata": {
        "id": "sjILqrA_NuGQ"
      }
    },
    {
      "cell_type": "code",
      "source": [
        "df.rename(columns={'populacja': 'pop', 'powierzchnia': 'pow'})"
      ],
      "metadata": {
        "colab": {
          "base_uri": "https://localhost:8080/",
          "height": 331
        },
        "id": "slL-Mwb3fc7H",
        "outputId": "b62d7148-8431-4705-e35c-0250b1d9a843"
      },
      "execution_count": null,
      "outputs": [
        {
          "output_type": "execute_result",
          "data": {
            "text/html": [
              "\n",
              "  <div id=\"df-6c9c077c-807e-4e85-85a7-fcacbdc48694\">\n",
              "    <div class=\"colab-df-container\">\n",
              "      <div>\n",
              "<style scoped>\n",
              "    .dataframe tbody tr th:only-of-type {\n",
              "        vertical-align: middle;\n",
              "    }\n",
              "\n",
              "    .dataframe tbody tr th {\n",
              "        vertical-align: top;\n",
              "    }\n",
              "\n",
              "    .dataframe thead th {\n",
              "        text-align: right;\n",
              "    }\n",
              "</style>\n",
              "<table border=\"1\" class=\"dataframe\">\n",
              "  <thead>\n",
              "    <tr style=\"text-align: right;\">\n",
              "      <th></th>\n",
              "      <th>pop</th>\n",
              "      <th>pow</th>\n",
              "    </tr>\n",
              "  </thead>\n",
              "  <tbody>\n",
              "    <tr>\n",
              "      <th>Wrocław</th>\n",
              "      <td>643782</td>\n",
              "      <td>292.80</td>\n",
              "    </tr>\n",
              "    <tr>\n",
              "      <th>Opole</th>\n",
              "      <td>128140</td>\n",
              "      <td>149.00</td>\n",
              "    </tr>\n",
              "    <tr>\n",
              "      <th>Cyców</th>\n",
              "      <td>1200</td>\n",
              "      <td>147.90</td>\n",
              "    </tr>\n",
              "    <tr>\n",
              "      <th>Moszna</th>\n",
              "      <td>350</td>\n",
              "      <td>7.29</td>\n",
              "    </tr>\n",
              "    <tr>\n",
              "      <th>Browarek</th>\n",
              "      <td>48</td>\n",
              "      <td>2.81</td>\n",
              "    </tr>\n",
              "    <tr>\n",
              "      <th>Złe Mięso</th>\n",
              "      <td>195</td>\n",
              "      <td>4.38</td>\n",
              "    </tr>\n",
              "    <tr>\n",
              "      <th>Radom</th>\n",
              "      <td>210532</td>\n",
              "      <td>112.00</td>\n",
              "    </tr>\n",
              "    <tr>\n",
              "      <th>Paryż</th>\n",
              "      <td>2148000</td>\n",
              "      <td>105.40</td>\n",
              "    </tr>\n",
              "    <tr>\n",
              "      <th>Biłgoraj</th>\n",
              "      <td>27106</td>\n",
              "      <td>21.10</td>\n",
              "    </tr>\n",
              "  </tbody>\n",
              "</table>\n",
              "</div>\n",
              "      <button class=\"colab-df-convert\" onclick=\"convertToInteractive('df-6c9c077c-807e-4e85-85a7-fcacbdc48694')\"\n",
              "              title=\"Convert this dataframe to an interactive table.\"\n",
              "              style=\"display:none;\">\n",
              "        \n",
              "  <svg xmlns=\"http://www.w3.org/2000/svg\" height=\"24px\"viewBox=\"0 0 24 24\"\n",
              "       width=\"24px\">\n",
              "    <path d=\"M0 0h24v24H0V0z\" fill=\"none\"/>\n",
              "    <path d=\"M18.56 5.44l.94 2.06.94-2.06 2.06-.94-2.06-.94-.94-2.06-.94 2.06-2.06.94zm-11 1L8.5 8.5l.94-2.06 2.06-.94-2.06-.94L8.5 2.5l-.94 2.06-2.06.94zm10 10l.94 2.06.94-2.06 2.06-.94-2.06-.94-.94-2.06-.94 2.06-2.06.94z\"/><path d=\"M17.41 7.96l-1.37-1.37c-.4-.4-.92-.59-1.43-.59-.52 0-1.04.2-1.43.59L10.3 9.45l-7.72 7.72c-.78.78-.78 2.05 0 2.83L4 21.41c.39.39.9.59 1.41.59.51 0 1.02-.2 1.41-.59l7.78-7.78 2.81-2.81c.8-.78.8-2.07 0-2.86zM5.41 20L4 18.59l7.72-7.72 1.47 1.35L5.41 20z\"/>\n",
              "  </svg>\n",
              "      </button>\n",
              "      \n",
              "  <style>\n",
              "    .colab-df-container {\n",
              "      display:flex;\n",
              "      flex-wrap:wrap;\n",
              "      gap: 12px;\n",
              "    }\n",
              "\n",
              "    .colab-df-convert {\n",
              "      background-color: #E8F0FE;\n",
              "      border: none;\n",
              "      border-radius: 50%;\n",
              "      cursor: pointer;\n",
              "      display: none;\n",
              "      fill: #1967D2;\n",
              "      height: 32px;\n",
              "      padding: 0 0 0 0;\n",
              "      width: 32px;\n",
              "    }\n",
              "\n",
              "    .colab-df-convert:hover {\n",
              "      background-color: #E2EBFA;\n",
              "      box-shadow: 0px 1px 2px rgba(60, 64, 67, 0.3), 0px 1px 3px 1px rgba(60, 64, 67, 0.15);\n",
              "      fill: #174EA6;\n",
              "    }\n",
              "\n",
              "    [theme=dark] .colab-df-convert {\n",
              "      background-color: #3B4455;\n",
              "      fill: #D2E3FC;\n",
              "    }\n",
              "\n",
              "    [theme=dark] .colab-df-convert:hover {\n",
              "      background-color: #434B5C;\n",
              "      box-shadow: 0px 1px 3px 1px rgba(0, 0, 0, 0.15);\n",
              "      filter: drop-shadow(0px 1px 2px rgba(0, 0, 0, 0.3));\n",
              "      fill: #FFFFFF;\n",
              "    }\n",
              "  </style>\n",
              "\n",
              "      <script>\n",
              "        const buttonEl =\n",
              "          document.querySelector('#df-6c9c077c-807e-4e85-85a7-fcacbdc48694 button.colab-df-convert');\n",
              "        buttonEl.style.display =\n",
              "          google.colab.kernel.accessAllowed ? 'block' : 'none';\n",
              "\n",
              "        async function convertToInteractive(key) {\n",
              "          const element = document.querySelector('#df-6c9c077c-807e-4e85-85a7-fcacbdc48694');\n",
              "          const dataTable =\n",
              "            await google.colab.kernel.invokeFunction('convertToInteractive',\n",
              "                                                     [key], {});\n",
              "          if (!dataTable) return;\n",
              "\n",
              "          const docLinkHtml = 'Like what you see? Visit the ' +\n",
              "            '<a target=\"_blank\" href=https://colab.research.google.com/notebooks/data_table.ipynb>data table notebook</a>'\n",
              "            + ' to learn more about interactive tables.';\n",
              "          element.innerHTML = '';\n",
              "          dataTable['output_type'] = 'display_data';\n",
              "          await google.colab.output.renderOutput(dataTable, element);\n",
              "          const docLink = document.createElement('div');\n",
              "          docLink.innerHTML = docLinkHtml;\n",
              "          element.appendChild(docLink);\n",
              "        }\n",
              "      </script>\n",
              "    </div>\n",
              "  </div>\n",
              "  "
            ],
            "text/plain": [
              "               pop     pow\n",
              "Wrocław     643782  292.80\n",
              "Opole       128140  149.00\n",
              "Cyców         1200  147.90\n",
              "Moszna         350    7.29\n",
              "Browarek        48    2.81\n",
              "Złe Mięso      195    4.38\n",
              "Radom       210532  112.00\n",
              "Paryż      2148000  105.40\n",
              "Biłgoraj     27106   21.10"
            ]
          },
          "metadata": {},
          "execution_count": 104
        }
      ]
    },
    {
      "cell_type": "code",
      "source": [
        "df.replace(48, 'zadziurze')"
      ],
      "metadata": {
        "colab": {
          "base_uri": "https://localhost:8080/",
          "height": 331
        },
        "id": "lRCDmNLdxx99",
        "outputId": "1f272061-819e-4fb0-cbee-db7f93721899"
      },
      "execution_count": null,
      "outputs": [
        {
          "output_type": "execute_result",
          "data": {
            "text/html": [
              "\n",
              "  <div id=\"df-9094a1cd-e9bb-44a8-9a63-819cf1f92c50\">\n",
              "    <div class=\"colab-df-container\">\n",
              "      <div>\n",
              "<style scoped>\n",
              "    .dataframe tbody tr th:only-of-type {\n",
              "        vertical-align: middle;\n",
              "    }\n",
              "\n",
              "    .dataframe tbody tr th {\n",
              "        vertical-align: top;\n",
              "    }\n",
              "\n",
              "    .dataframe thead th {\n",
              "        text-align: right;\n",
              "    }\n",
              "</style>\n",
              "<table border=\"1\" class=\"dataframe\">\n",
              "  <thead>\n",
              "    <tr style=\"text-align: right;\">\n",
              "      <th></th>\n",
              "      <th>populacja</th>\n",
              "      <th>powierzchnia</th>\n",
              "    </tr>\n",
              "  </thead>\n",
              "  <tbody>\n",
              "    <tr>\n",
              "      <th>Wrocław</th>\n",
              "      <td>643782</td>\n",
              "      <td>292.80</td>\n",
              "    </tr>\n",
              "    <tr>\n",
              "      <th>Opole</th>\n",
              "      <td>128140</td>\n",
              "      <td>149.00</td>\n",
              "    </tr>\n",
              "    <tr>\n",
              "      <th>Cyców</th>\n",
              "      <td>1200</td>\n",
              "      <td>147.90</td>\n",
              "    </tr>\n",
              "    <tr>\n",
              "      <th>Moszna</th>\n",
              "      <td>350</td>\n",
              "      <td>7.29</td>\n",
              "    </tr>\n",
              "    <tr>\n",
              "      <th>Browarek</th>\n",
              "      <td>zadziurze</td>\n",
              "      <td>2.81</td>\n",
              "    </tr>\n",
              "    <tr>\n",
              "      <th>Złe Mięso</th>\n",
              "      <td>195</td>\n",
              "      <td>4.38</td>\n",
              "    </tr>\n",
              "    <tr>\n",
              "      <th>Radom</th>\n",
              "      <td>210532</td>\n",
              "      <td>112.00</td>\n",
              "    </tr>\n",
              "    <tr>\n",
              "      <th>Paryż</th>\n",
              "      <td>2148000</td>\n",
              "      <td>105.40</td>\n",
              "    </tr>\n",
              "    <tr>\n",
              "      <th>Biłgoraj</th>\n",
              "      <td>27106</td>\n",
              "      <td>21.10</td>\n",
              "    </tr>\n",
              "  </tbody>\n",
              "</table>\n",
              "</div>\n",
              "      <button class=\"colab-df-convert\" onclick=\"convertToInteractive('df-9094a1cd-e9bb-44a8-9a63-819cf1f92c50')\"\n",
              "              title=\"Convert this dataframe to an interactive table.\"\n",
              "              style=\"display:none;\">\n",
              "        \n",
              "  <svg xmlns=\"http://www.w3.org/2000/svg\" height=\"24px\"viewBox=\"0 0 24 24\"\n",
              "       width=\"24px\">\n",
              "    <path d=\"M0 0h24v24H0V0z\" fill=\"none\"/>\n",
              "    <path d=\"M18.56 5.44l.94 2.06.94-2.06 2.06-.94-2.06-.94-.94-2.06-.94 2.06-2.06.94zm-11 1L8.5 8.5l.94-2.06 2.06-.94-2.06-.94L8.5 2.5l-.94 2.06-2.06.94zm10 10l.94 2.06.94-2.06 2.06-.94-2.06-.94-.94-2.06-.94 2.06-2.06.94z\"/><path d=\"M17.41 7.96l-1.37-1.37c-.4-.4-.92-.59-1.43-.59-.52 0-1.04.2-1.43.59L10.3 9.45l-7.72 7.72c-.78.78-.78 2.05 0 2.83L4 21.41c.39.39.9.59 1.41.59.51 0 1.02-.2 1.41-.59l7.78-7.78 2.81-2.81c.8-.78.8-2.07 0-2.86zM5.41 20L4 18.59l7.72-7.72 1.47 1.35L5.41 20z\"/>\n",
              "  </svg>\n",
              "      </button>\n",
              "      \n",
              "  <style>\n",
              "    .colab-df-container {\n",
              "      display:flex;\n",
              "      flex-wrap:wrap;\n",
              "      gap: 12px;\n",
              "    }\n",
              "\n",
              "    .colab-df-convert {\n",
              "      background-color: #E8F0FE;\n",
              "      border: none;\n",
              "      border-radius: 50%;\n",
              "      cursor: pointer;\n",
              "      display: none;\n",
              "      fill: #1967D2;\n",
              "      height: 32px;\n",
              "      padding: 0 0 0 0;\n",
              "      width: 32px;\n",
              "    }\n",
              "\n",
              "    .colab-df-convert:hover {\n",
              "      background-color: #E2EBFA;\n",
              "      box-shadow: 0px 1px 2px rgba(60, 64, 67, 0.3), 0px 1px 3px 1px rgba(60, 64, 67, 0.15);\n",
              "      fill: #174EA6;\n",
              "    }\n",
              "\n",
              "    [theme=dark] .colab-df-convert {\n",
              "      background-color: #3B4455;\n",
              "      fill: #D2E3FC;\n",
              "    }\n",
              "\n",
              "    [theme=dark] .colab-df-convert:hover {\n",
              "      background-color: #434B5C;\n",
              "      box-shadow: 0px 1px 3px 1px rgba(0, 0, 0, 0.15);\n",
              "      filter: drop-shadow(0px 1px 2px rgba(0, 0, 0, 0.3));\n",
              "      fill: #FFFFFF;\n",
              "    }\n",
              "  </style>\n",
              "\n",
              "      <script>\n",
              "        const buttonEl =\n",
              "          document.querySelector('#df-9094a1cd-e9bb-44a8-9a63-819cf1f92c50 button.colab-df-convert');\n",
              "        buttonEl.style.display =\n",
              "          google.colab.kernel.accessAllowed ? 'block' : 'none';\n",
              "\n",
              "        async function convertToInteractive(key) {\n",
              "          const element = document.querySelector('#df-9094a1cd-e9bb-44a8-9a63-819cf1f92c50');\n",
              "          const dataTable =\n",
              "            await google.colab.kernel.invokeFunction('convertToInteractive',\n",
              "                                                     [key], {});\n",
              "          if (!dataTable) return;\n",
              "\n",
              "          const docLinkHtml = 'Like what you see? Visit the ' +\n",
              "            '<a target=\"_blank\" href=https://colab.research.google.com/notebooks/data_table.ipynb>data table notebook</a>'\n",
              "            + ' to learn more about interactive tables.';\n",
              "          element.innerHTML = '';\n",
              "          dataTable['output_type'] = 'display_data';\n",
              "          await google.colab.output.renderOutput(dataTable, element);\n",
              "          const docLink = document.createElement('div');\n",
              "          docLink.innerHTML = docLinkHtml;\n",
              "          element.appendChild(docLink);\n",
              "        }\n",
              "      </script>\n",
              "    </div>\n",
              "  </div>\n",
              "  "
            ],
            "text/plain": [
              "           populacja  powierzchnia\n",
              "Wrocław       643782        292.80\n",
              "Opole         128140        149.00\n",
              "Cyców           1200        147.90\n",
              "Moszna           350          7.29\n",
              "Browarek   zadziurze          2.81\n",
              "Złe Mięso        195          4.38\n",
              "Radom         210532        112.00\n",
              "Paryż        2148000        105.40\n",
              "Biłgoraj       27106         21.10"
            ]
          },
          "metadata": {},
          "execution_count": 105
        }
      ]
    },
    {
      "cell_type": "code",
      "source": [
        "df.rename(index={'Wrocław':'W-w'})"
      ],
      "metadata": {
        "colab": {
          "base_uri": "https://localhost:8080/",
          "height": 331
        },
        "id": "VYxwPXBjx2ew",
        "outputId": "538c364d-c821-49d3-e26d-e8b3c389af59"
      },
      "execution_count": null,
      "outputs": [
        {
          "output_type": "execute_result",
          "data": {
            "text/html": [
              "\n",
              "  <div id=\"df-f76a85c9-c4b5-43ae-a5c6-3b322c341cf4\">\n",
              "    <div class=\"colab-df-container\">\n",
              "      <div>\n",
              "<style scoped>\n",
              "    .dataframe tbody tr th:only-of-type {\n",
              "        vertical-align: middle;\n",
              "    }\n",
              "\n",
              "    .dataframe tbody tr th {\n",
              "        vertical-align: top;\n",
              "    }\n",
              "\n",
              "    .dataframe thead th {\n",
              "        text-align: right;\n",
              "    }\n",
              "</style>\n",
              "<table border=\"1\" class=\"dataframe\">\n",
              "  <thead>\n",
              "    <tr style=\"text-align: right;\">\n",
              "      <th></th>\n",
              "      <th>populacja</th>\n",
              "      <th>powierzchnia</th>\n",
              "    </tr>\n",
              "  </thead>\n",
              "  <tbody>\n",
              "    <tr>\n",
              "      <th>W-w</th>\n",
              "      <td>643782</td>\n",
              "      <td>292.80</td>\n",
              "    </tr>\n",
              "    <tr>\n",
              "      <th>Opole</th>\n",
              "      <td>128140</td>\n",
              "      <td>149.00</td>\n",
              "    </tr>\n",
              "    <tr>\n",
              "      <th>Cyców</th>\n",
              "      <td>1200</td>\n",
              "      <td>147.90</td>\n",
              "    </tr>\n",
              "    <tr>\n",
              "      <th>Moszna</th>\n",
              "      <td>350</td>\n",
              "      <td>7.29</td>\n",
              "    </tr>\n",
              "    <tr>\n",
              "      <th>Browarek</th>\n",
              "      <td>48</td>\n",
              "      <td>2.81</td>\n",
              "    </tr>\n",
              "    <tr>\n",
              "      <th>Złe Mięso</th>\n",
              "      <td>195</td>\n",
              "      <td>4.38</td>\n",
              "    </tr>\n",
              "    <tr>\n",
              "      <th>Radom</th>\n",
              "      <td>210532</td>\n",
              "      <td>112.00</td>\n",
              "    </tr>\n",
              "    <tr>\n",
              "      <th>Paryż</th>\n",
              "      <td>2148000</td>\n",
              "      <td>105.40</td>\n",
              "    </tr>\n",
              "    <tr>\n",
              "      <th>Biłgoraj</th>\n",
              "      <td>27106</td>\n",
              "      <td>21.10</td>\n",
              "    </tr>\n",
              "  </tbody>\n",
              "</table>\n",
              "</div>\n",
              "      <button class=\"colab-df-convert\" onclick=\"convertToInteractive('df-f76a85c9-c4b5-43ae-a5c6-3b322c341cf4')\"\n",
              "              title=\"Convert this dataframe to an interactive table.\"\n",
              "              style=\"display:none;\">\n",
              "        \n",
              "  <svg xmlns=\"http://www.w3.org/2000/svg\" height=\"24px\"viewBox=\"0 0 24 24\"\n",
              "       width=\"24px\">\n",
              "    <path d=\"M0 0h24v24H0V0z\" fill=\"none\"/>\n",
              "    <path d=\"M18.56 5.44l.94 2.06.94-2.06 2.06-.94-2.06-.94-.94-2.06-.94 2.06-2.06.94zm-11 1L8.5 8.5l.94-2.06 2.06-.94-2.06-.94L8.5 2.5l-.94 2.06-2.06.94zm10 10l.94 2.06.94-2.06 2.06-.94-2.06-.94-.94-2.06-.94 2.06-2.06.94z\"/><path d=\"M17.41 7.96l-1.37-1.37c-.4-.4-.92-.59-1.43-.59-.52 0-1.04.2-1.43.59L10.3 9.45l-7.72 7.72c-.78.78-.78 2.05 0 2.83L4 21.41c.39.39.9.59 1.41.59.51 0 1.02-.2 1.41-.59l7.78-7.78 2.81-2.81c.8-.78.8-2.07 0-2.86zM5.41 20L4 18.59l7.72-7.72 1.47 1.35L5.41 20z\"/>\n",
              "  </svg>\n",
              "      </button>\n",
              "      \n",
              "  <style>\n",
              "    .colab-df-container {\n",
              "      display:flex;\n",
              "      flex-wrap:wrap;\n",
              "      gap: 12px;\n",
              "    }\n",
              "\n",
              "    .colab-df-convert {\n",
              "      background-color: #E8F0FE;\n",
              "      border: none;\n",
              "      border-radius: 50%;\n",
              "      cursor: pointer;\n",
              "      display: none;\n",
              "      fill: #1967D2;\n",
              "      height: 32px;\n",
              "      padding: 0 0 0 0;\n",
              "      width: 32px;\n",
              "    }\n",
              "\n",
              "    .colab-df-convert:hover {\n",
              "      background-color: #E2EBFA;\n",
              "      box-shadow: 0px 1px 2px rgba(60, 64, 67, 0.3), 0px 1px 3px 1px rgba(60, 64, 67, 0.15);\n",
              "      fill: #174EA6;\n",
              "    }\n",
              "\n",
              "    [theme=dark] .colab-df-convert {\n",
              "      background-color: #3B4455;\n",
              "      fill: #D2E3FC;\n",
              "    }\n",
              "\n",
              "    [theme=dark] .colab-df-convert:hover {\n",
              "      background-color: #434B5C;\n",
              "      box-shadow: 0px 1px 3px 1px rgba(0, 0, 0, 0.15);\n",
              "      filter: drop-shadow(0px 1px 2px rgba(0, 0, 0, 0.3));\n",
              "      fill: #FFFFFF;\n",
              "    }\n",
              "  </style>\n",
              "\n",
              "      <script>\n",
              "        const buttonEl =\n",
              "          document.querySelector('#df-f76a85c9-c4b5-43ae-a5c6-3b322c341cf4 button.colab-df-convert');\n",
              "        buttonEl.style.display =\n",
              "          google.colab.kernel.accessAllowed ? 'block' : 'none';\n",
              "\n",
              "        async function convertToInteractive(key) {\n",
              "          const element = document.querySelector('#df-f76a85c9-c4b5-43ae-a5c6-3b322c341cf4');\n",
              "          const dataTable =\n",
              "            await google.colab.kernel.invokeFunction('convertToInteractive',\n",
              "                                                     [key], {});\n",
              "          if (!dataTable) return;\n",
              "\n",
              "          const docLinkHtml = 'Like what you see? Visit the ' +\n",
              "            '<a target=\"_blank\" href=https://colab.research.google.com/notebooks/data_table.ipynb>data table notebook</a>'\n",
              "            + ' to learn more about interactive tables.';\n",
              "          element.innerHTML = '';\n",
              "          dataTable['output_type'] = 'display_data';\n",
              "          await google.colab.output.renderOutput(dataTable, element);\n",
              "          const docLink = document.createElement('div');\n",
              "          docLink.innerHTML = docLinkHtml;\n",
              "          element.appendChild(docLink);\n",
              "        }\n",
              "      </script>\n",
              "    </div>\n",
              "  </div>\n",
              "  "
            ],
            "text/plain": [
              "           populacja  powierzchnia\n",
              "W-w           643782        292.80\n",
              "Opole         128140        149.00\n",
              "Cyców           1200        147.90\n",
              "Moszna           350          7.29\n",
              "Browarek          48          2.81\n",
              "Złe Mięso        195          4.38\n",
              "Radom         210532        112.00\n",
              "Paryż        2148000        105.40\n",
              "Biłgoraj       27106         21.10"
            ]
          },
          "metadata": {},
          "execution_count": 106
        }
      ]
    },
    {
      "cell_type": "code",
      "source": [
        "pusta_ramka = pd.DataFrame(dtype='float64')"
      ],
      "metadata": {
        "id": "g6OTZwfdCvCA"
      },
      "execution_count": null,
      "outputs": []
    },
    {
      "cell_type": "markdown",
      "source": [
        "### Rysowanie prostych wykresów\n",
        "Biblioteka ```Matplotlib```"
      ],
      "metadata": {
        "id": "xX-7_OMbyofL"
      }
    },
    {
      "cell_type": "code",
      "source": [
        "import matplotlib.pyplot as plt"
      ],
      "metadata": {
        "id": "PDL-Xowjx5T2"
      },
      "execution_count": null,
      "outputs": []
    },
    {
      "cell_type": "markdown",
      "source": [
        "Na początek prosty wykres bez typowych ozdobników."
      ],
      "metadata": {
        "id": "CfWRx4E4FZSd"
      }
    },
    {
      "cell_type": "code",
      "source": [
        "x = np.linspace(start=-2, stop=2, num=100)\n",
        "y = x**2\n",
        "plt.plot(x,y);"
      ],
      "metadata": {
        "colab": {
          "base_uri": "https://localhost:8080/",
          "height": 265
        },
        "id": "__hLM5Z5Ff5o",
        "outputId": "5d00be95-45c8-4b2a-cf3b-e3cb0e896903"
      },
      "execution_count": null,
      "outputs": [
        {
          "output_type": "display_data",
          "data": {
            "image/png": "[encoded data removed]",
            "text/plain": [
              "<Figure size 432x288 with 1 Axes>"
            ]
          },
          "metadata": {
            "needs_background": "light"
          }
        }
      ]
    },
    {
      "cell_type": "markdown",
      "source": [
        "A teraz z ozdobnikami, których obecność jest bardzo wskazana w sprawozdaniach, publikacjach, pracach dyplomowych itp."
      ],
      "metadata": {
        "id": "EHEtjAY3F92S"
      }
    },
    {
      "cell_type": "code",
      "source": [
        "fig, ax = plt.subplots(nrows=1, ncols=2, figsize=(10,4))\n",
        "\n",
        "x = np.arange(start=0, stop=2, step=0.1)\n",
        "y = x**2\n",
        "ax[0].plot(x,y, marker='.')\n",
        "ax[0].set_xlabel('x', fontsize=14)\n",
        "ax[0].set_ylabel('y', fontsize=14)\n",
        "\n",
        "x = np.linspace(start=0, stop=6, num=100)\n",
        "y = np.sin(x) + np.sin(3*x)\n",
        "ax[1].plot(x,np.sin(x), label='składnik 1', alpha=0.8, linestyle='dashed')\n",
        "ax[1].plot(x,np.sin(3*x), label='składnik 2', alpha=0.8, linestyle='dotted')\n",
        "ax[1].plot(x,y, label='suma', linewidth=3)\n",
        "ax[1].set_xlabel('x', fontsize=14)\n",
        "ax[1].set_ylabel('y', fontsize=14)\n",
        "ax[1].legend()\n",
        "fig.tight_layout()\n",
        "plt.show()"
      ],
      "metadata": {
        "colab": {
          "base_uri": "https://localhost:8080/",
          "height": 297
        },
        "id": "pH13kdpby2V4",
        "outputId": "ee3354d3-87ba-43ca-9961-7a15dda5c51a"
      },
      "execution_count": null,
      "outputs": [
        {
          "output_type": "display_data",
          "data": {
            "image/png": "[encoded data removed]",
            "text/plain": [
              "<Figure size 720x288 with 2 Axes>"
            ]
          },
          "metadata": {
            "needs_background": "light"
          }
        }
      ]
    },
    {
      "cell_type": "markdown",
      "source": [
        "Laboratorium fal"
      ],
      "metadata": {
        "id": "HzxGHik52Kjr"
      }
    },
    {
      "cell_type": "code",
      "source": [
        "t = np.linspace(0,2*np.pi, 600)\n",
        "x = np.sin(3*t)\n",
        "y = np.cos(5*t)\n",
        "\n",
        "fig, ax = plt.subplots(nrows=1, ncols=2, figsize=(11,4))\n",
        "\n",
        "ax[0].plot(t,x, label='x')\n",
        "ax[0].plot(t,y, label='y')\n",
        "ax[0].set_xlabel('t', fontsize=14)\n",
        "ax[0].set_ylabel('wartość', fontsize=14)\n",
        "ax[0].legend(fontsize=12)\n",
        "ax[0].set_title('wykres na osi czasu')\n",
        "\n",
        "ax[1].plot(x,y)\n",
        "ax[1].set_xlabel('x', fontsize=14)\n",
        "ax[1].set_ylabel('y', fontsize=14)\n",
        "ax[1].axis('square')\n",
        "ax[1].set_title('przestrzeń zmiennych stanu')\n",
        "\n",
        "fig.tight_layout()\n",
        "plt.show()"
      ],
      "metadata": {
        "colab": {
          "base_uri": "https://localhost:8080/",
          "height": 297
        },
        "id": "ptwyBm1UzL-o",
        "outputId": "8534225e-a8a8-434b-b55d-093b3f5311a3"
      },
      "execution_count": null,
      "outputs": [
        {
          "output_type": "display_data",
          "data": {
            "image/png": "[encoded data removed]",
            "text/plain": [
              "<Figure size 792x288 with 2 Axes>"
            ]
          },
          "metadata": {
            "needs_background": "light"
          }
        }
      ]
    },
    {
      "cell_type": "code",
      "source": [
        "x = np.linspace(0,20, 1001)\n",
        "y = np.zeros_like(x)\n",
        "\n",
        "N = 12100\n",
        "for i in range(1,N+1,2):\n",
        "    y += np.sin(i*x)/i\n",
        "\n",
        "plt.plot(x,y)\n",
        "plt.show()"
      ],
      "metadata": {
        "id": "iUNqSQbd3Co6",
        "colab": {
          "base_uri": "https://localhost:8080/",
          "height": 265
        },
        "outputId": "38b02ad9-d700-4012-a620-90ab409bd3d2"
      },
      "execution_count": null,
      "outputs": [
        {
          "output_type": "display_data",
          "data": {
            "image/png": "[encoded data removed]",
            "text/plain": [
              "<Figure size 432x288 with 1 Axes>"
            ]
          },
          "metadata": {
            "needs_background": "light"
          }
        }
      ]
    },
    {
      "cell_type": "code",
      "source": [
        ""
      ],
      "metadata": {
        "id": "FB9HnBcWxHyx"
      },
      "execution_count": null,
      "outputs": []
    }
  ]
}